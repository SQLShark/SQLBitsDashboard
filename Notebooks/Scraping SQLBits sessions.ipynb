{
 "cells": [
  {
   "cell_type": "markdown",
   "metadata": {},
   "source": [
    "Scraping from SQLBits"
   ]
  },
  {
   "cell_type": "code",
   "execution_count": 279,
   "metadata": {},
   "outputs": [],
   "source": [
    "from urllib.request import urlopen as uReq\n",
    "from bs4 import BeautifulSoup as soup\n",
    "import json\n",
    "import pyodbc\n",
    "import unicodedata"
   ]
  },
  {
   "cell_type": "markdown",
   "metadata": {},
   "source": [
    "Connect to a SQLServer Database"
   ]
  },
  {
   "cell_type": "code",
   "execution_count": 280,
   "metadata": {},
   "outputs": [],
   "source": [
    "server = 'sqlgla.database.windows.net'\n",
    "database = 'sqlgla'\n",
    "username = 'sqlgla'\n",
    "password = 'Password1234!'\n",
    "driver= '{SQL Server}'\n",
    "cnxn = pyodbc.connect('DRIVER='+driver+';SERVER='+server+';PORT=1433;DATABASE='+database+';UID='+username+';PWD='+ password)\n",
    "cursor = cnxn.cursor()\n",
    "cursor2 = cnxn.cursor()"
   ]
  },
  {
   "cell_type": "markdown",
   "metadata": {},
   "source": [
    "Connect to the SQLBits website. "
   ]
  },
  {
   "cell_type": "code",
   "execution_count": 281,
   "metadata": {},
   "outputs": [],
   "source": [
    "my_url = 'https://sqlbits.com/information/publicsessions' \n",
    "uClient = uReq(my_url)\n",
    "page_html = uClient.read()\n",
    "uClient.close()"
   ]
  },
  {
   "cell_type": "code",
   "execution_count": 282,
   "metadata": {},
   "outputs": [],
   "source": [
    "page_soup = soup(page_html, 'html.parser')"
   ]
  },
  {
   "cell_type": "code",
   "execution_count": 283,
   "metadata": {},
   "outputs": [],
   "source": [
    "bitsSessions = page_soup.findAll(\"div\", attrs={\"class\":\"panel\"})"
   ]
  },
  {
   "cell_type": "markdown",
   "metadata": {},
   "source": [
    "Find the speakers name:"
   ]
  },
  {
   "cell_type": "code",
   "execution_count": 284,
   "metadata": {},
   "outputs": [
    {
     "name": "stdout",
     "output_type": "stream",
     "text": [
      "https://sqlbits.com/speakers/Rich_Benner\n"
     ]
    }
   ],
   "source": [
    "speaker = bitsSessions[0].findAll(\"div\", attrs={\"class\":\"col-sm-3\"})[0].a['href'].replace(\"../speakers/\",\"\").replace(\"_\",\" \").strip()\n",
    "speakerLink = bitsSessions[0].findAll(\"div\", attrs={\"class\":\"col-sm-3\"})[0].a['href'].replace(\"..\",\"https://sqlbits.com\").strip()\n",
    "print(speakerLink)"
   ]
  },
  {
   "cell_type": "markdown",
   "metadata": {},
   "source": [
    "Find the session topic and level"
   ]
  },
  {
   "cell_type": "code",
   "execution_count": 285,
   "metadata": {},
   "outputs": [
    {
     "name": "stdout",
     "output_type": "stream",
     "text": [
      "\n"
     ]
    }
   ],
   "source": [
    "topic = bitsSessions[0].findAll(\"div\", attrs={\"class\":\"col-sm-3\"})[1].text.strip()\n",
    "print(topic)"
   ]
  },
  {
   "cell_type": "markdown",
   "metadata": {},
   "source": [
    "Find the session abstract:"
   ]
  },
  {
   "cell_type": "code",
   "execution_count": 286,
   "metadata": {},
   "outputs": [
    {
     "name": "stdout",
     "output_type": "stream",
     "text": [
      "Remember those “choose your own adventure” books from when we were little? Yep, that’s what we’re doing in this session.\n"
     ]
    }
   ],
   "source": [
    "abstract = bitsSessions[0].findAll(\"div\", attrs={\"class\":\"panel-body\"})[0].text.strip()\n",
    "print(abstract)"
   ]
  },
  {
   "cell_type": "markdown",
   "metadata": {},
   "source": [
    "Find the title of the session:"
   ]
  },
  {
   "cell_type": "code",
   "execution_count": 287,
   "metadata": {},
   "outputs": [
    {
     "name": "stdout",
     "output_type": "stream",
     "text": [
      "Choose your own adventure – performance edition\n"
     ]
    }
   ],
   "source": [
    "title = bitsSessions[0].findAll(\"div\", attrs={\"class\":\"col-sm-6\"})[0].text.strip()\n",
    "print(title)"
   ]
  },
  {
   "cell_type": "code",
   "execution_count": 288,
   "metadata": {},
   "outputs": [
    {
     "name": "stdout",
     "output_type": "stream",
     "text": [
      "https://sqlbits.com/sessions/event20/Choose_your_own_adventure__performance_edition\n"
     ]
    }
   ],
   "source": [
    "link = bitsSessions[0].findAll(\"div\", attrs={\"class\":\"col-sm-6\"})[0].a['href'].replace(\"..\",\"https://sqlbits.com\").strip()\n",
    "print(link)"
   ]
  },
  {
   "cell_type": "code",
   "execution_count": 289,
   "metadata": {},
   "outputs": [],
   "source": [
    "uClient = uReq(link)\n",
    "page_html = uClient.read()\n",
    "uClient.close()\n",
    "abstractHTML = soup(page_html, 'html.parser')"
   ]
  },
  {
   "cell_type": "code",
   "execution_count": 290,
   "metadata": {},
   "outputs": [],
   "source": [
    "abstractText = abstractHTML.findAll(\"div\", attrs={\"class\":\"row\"})"
   ]
  },
  {
   "cell_type": "code",
   "execution_count": 291,
   "metadata": {},
   "outputs": [],
   "source": [
    "abstractTagList = abstractHTML.findAll(\"div\", attrs={\"id\":\"TagList\"})"
   ]
  },
  {
   "cell_type": "code",
   "execution_count": 292,
   "metadata": {},
   "outputs": [],
   "source": [
    "abstractTags = abstractTagList[0].findAll(\"a\")"
   ]
  },
  {
   "cell_type": "code",
   "execution_count": 293,
   "metadata": {},
   "outputs": [
    {
     "data": {
      "text/plain": [
       "[<a href=\"../../Content/?tags=Optimising\" id=\"ctl00_ctl00_PageBody_Body_TagListView_ctrl0_TagLink\">Optimising</a>,\n",
       " <a href=\"../../Content/?tags=On-prem\" id=\"ctl00_ctl00_PageBody_Body_TagListView_ctrl2_TagLink\">On-prem</a>,\n",
       " <a href=\"../../Content/?tags=Database+engine\" id=\"ctl00_ctl00_PageBody_Body_TagListView_ctrl4_TagLink\">Database engine</a>,\n",
       " <a href=\"../../Content/?tags=SQL+2019\" id=\"ctl00_ctl00_PageBody_Body_TagListView_ctrl6_TagLink\">SQL 2019</a>]"
      ]
     },
     "execution_count": 293,
     "metadata": {},
     "output_type": "execute_result"
    }
   ],
   "source": [
    "abstractTags"
   ]
  },
  {
   "cell_type": "code",
   "execution_count": 294,
   "metadata": {},
   "outputs": [
    {
     "data": {
      "text/plain": [
       "'https://sqlbits.com/sessions/event20/Choose_your_own_adventure__performance_edition'"
      ]
     },
     "execution_count": 294,
     "metadata": {},
     "output_type": "execute_result"
    }
   ],
   "source": [
    "link"
   ]
  },
  {
   "cell_type": "code",
   "execution_count": 295,
   "metadata": {},
   "outputs": [],
   "source": [
    "import string \n",
    "def cleanString(strr):\n",
    "    strr = unicodedata.normalize(\"NFKD\", strr)\n",
    "    strr = strr.replace('\\r\\n',' ')\n",
    "    strr = strr.replace('\\n',' ')\n",
    "    strr = strr.replace('\\r',' ')\n",
    "    strr = strr.replace('\\t',' ')\n",
    "    strr = strr.replace('             ',' ')\n",
    "    strr = strr.replace('  ','')\n",
    "    strr = strr.replace('’','')\n",
    "    strr = strr.replace('Well be voting to see where we go at each step and see what happens',' ')\n",
    "           \n",
    "    strr = strr.replace('                              ',' ')\n",
    "    ''\n",
    "    strr = strr.translate(str.maketrans('', '', string.punctuation))\n",
    "    return strr"
   ]
  },
  {
   "cell_type": "code",
   "execution_count": 296,
   "metadata": {},
   "outputs": [
    {
     "data": {
      "text/plain": [
       "'Were going to start with a poorly performing query and choose which route were going to take to see if we can make it better You dont need any previous experience in performance tuning for this session well briefly cover each topic as its chosenPotential topics include– Indexes– Query Design– Settings that might affect performance– Scalar Functions– SARGability– Temp Tables '"
      ]
     },
     "execution_count": 296,
     "metadata": {},
     "output_type": "execute_result"
    }
   ],
   "source": [
    "abstractFull = abstractText[0].findAll(\"div\", attrs={\"class\":\"row\"})[0].text.strip()\n",
    "cleanString(abstractFull)"
   ]
  },
  {
   "cell_type": "code",
   "execution_count": 297,
   "metadata": {},
   "outputs": [
    {
     "name": "stdout",
     "output_type": "stream",
     "text": [
      "Optimising\n",
      "Onprem\n",
      "Database engine\n",
      "SQL 2019\n"
     ]
    }
   ],
   "source": [
    "for tag in abstractTags:\n",
    "    tagg = tag.text.strip() \n",
    "    print(cleanString(tagg))"
   ]
  },
  {
   "cell_type": "code",
   "execution_count": 298,
   "metadata": {},
   "outputs": [
    {
     "data": {
      "text/plain": [
       "<a href=\"../../Content/?tags=Optimising\" id=\"ctl00_ctl00_PageBody_Body_TagListView_ctrl0_TagLink\">Optimising</a>"
      ]
     },
     "execution_count": 298,
     "metadata": {},
     "output_type": "execute_result"
    }
   ],
   "source": [
    "abstractTags[0]"
   ]
  },
  {
   "cell_type": "markdown",
   "metadata": {},
   "source": [
    "Well that does sound interesting William!\n",
    "\n",
    "But lets go a bit deeper. Lets look at all the sessions which went in to SQLBits in 2018.\n",
    "\n",
    "In python we can use len to find the length of a list. "
   ]
  },
  {
   "cell_type": "code",
   "execution_count": 299,
   "metadata": {},
   "outputs": [],
   "source": [
    "y = len(bitsSessions)\n"
   ]
  },
  {
   "cell_type": "code",
   "execution_count": 300,
   "metadata": {},
   "outputs": [],
   "source": [
    "speakerLink = 'https://sqlbits.com/speakers/Simon_Whiteley'\n",
    "uClient = uReq(speakerLink)\n",
    "page_html = uClient.read()\n",
    "uClient.close()\n",
    "speakerHTML = soup(page_html, 'html.parser')"
   ]
  },
  {
   "cell_type": "code",
   "execution_count": 301,
   "metadata": {},
   "outputs": [
    {
     "data": {
      "text/plain": [
       "4"
      ]
     },
     "execution_count": 301,
     "metadata": {},
     "output_type": "execute_result"
    }
   ],
   "source": [
    "sessionList = speakerHTML.findAll(\"div\", attrs={\"class\":\"row\"})[2].findAll(\"div\", attrs={\"class\":\"col-sm-12\"})\n",
    "output = []\n",
    "for sl in sessionList:\n",
    "    if sl.text.strip() not in output:\n",
    "        output.append(sl.text.strip())\n",
    "len(output)"
   ]
  },
  {
   "cell_type": "code",
   "execution_count": 302,
   "metadata": {},
   "outputs": [
    {
     "data": {
      "text/plain": [
       "<div class=\"col-sm-12\">\n",
       "<a href=\"../Sessions/Event20/Python_Pipeline_Primer_Data_Engineering_with_DataBricks\" id=\"ctl00_ctl00_PageBody_Body_PendingSpeakerSessionList_ContentListView_ctrl4_SessionTitle\">Python Pipeline Primer: Data Engineering with DataBricks</a>\n",
       "</div>"
      ]
     },
     "execution_count": 302,
     "metadata": {},
     "output_type": "execute_result"
    }
   ],
   "source": [
    " a[4]"
   ]
  },
  {
   "cell_type": "code",
   "execution_count": 303,
   "metadata": {},
   "outputs": [
    {
     "ename": "TypeError",
     "evalue": "len() takes exactly one argument (0 given)",
     "output_type": "error",
     "traceback": [
      "\u001b[1;31m---------------------------------------------------------------------------\u001b[0m",
      "\u001b[1;31mTypeError\u001b[0m                                 Traceback (most recent call last)",
      "\u001b[1;32m<ipython-input-303-adf3103c7c3e>\u001b[0m in \u001b[0;36m<module>\u001b[1;34m\u001b[0m\n\u001b[1;32m----> 1\u001b[1;33m \u001b[0mlen\u001b[0m\u001b[1;33m(\u001b[0m\u001b[1;33m)\u001b[0m\u001b[1;33m\u001b[0m\u001b[1;33m\u001b[0m\u001b[0m\n\u001b[0m",
      "\u001b[1;31mTypeError\u001b[0m: len() takes exactly one argument (0 given)"
     ]
    }
   ],
   "source": [
    "len()"
   ]
  },
  {
   "cell_type": "code",
   "execution_count": 304,
   "metadata": {},
   "outputs": [
    {
     "data": {
      "text/plain": [
       "4"
      ]
     },
     "execution_count": 304,
     "metadata": {},
     "output_type": "execute_result"
    }
   ],
   "source": [
    "len(speakerHTML.findAll(\"div\", attrs={\"class\":\"row\"})[3].findAll(\"div\", attrs={\"class\":\"item\"}))"
   ]
  },
  {
   "cell_type": "code",
   "execution_count": 305,
   "metadata": {},
   "outputs": [
    {
     "name": "stdout",
     "output_type": "stream",
     "text": [
      "573\n",
      "572\n",
      "571\n",
      "570\n",
      "569\n",
      "568\n",
      "567\n",
      "566\n",
      "565\n",
      "564\n",
      "563\n",
      "562\n",
      "561\n",
      "560\n",
      "559\n",
      "558\n",
      "557\n",
      "556\n",
      "555\n",
      "554\n",
      "553\n",
      "552\n",
      "551\n",
      "550\n",
      "549\n",
      "548\n",
      "547\n",
      "546\n",
      "545\n",
      "544\n",
      "543\n",
      "542\n",
      "541\n",
      "540\n",
      "539\n",
      "538\n",
      "537\n",
      "536\n",
      "535\n",
      "534\n",
      "533\n",
      "532\n",
      "531\n",
      "530\n",
      "529\n",
      "528\n",
      "527\n",
      "526\n",
      "525\n",
      "524\n",
      "523\n",
      "522\n",
      "521\n",
      "520\n",
      "519\n",
      "518\n",
      "517\n",
      "516\n",
      "515\n",
      "514\n",
      "513\n",
      "512\n",
      "511\n",
      "510\n",
      "509\n",
      "508\n",
      "507\n",
      "506\n",
      "505\n",
      "504\n",
      "503\n",
      "502\n",
      "501\n",
      "500\n",
      "499\n",
      "498\n",
      "497\n",
      "496\n",
      "495\n",
      "494\n",
      "493\n",
      "492\n",
      "491\n",
      "490\n",
      "489\n",
      "488\n",
      "487\n",
      "486\n",
      "485\n",
      "484\n",
      "483\n",
      "482\n",
      "481\n",
      "480\n",
      "479\n",
      "478\n",
      "477\n",
      "476\n",
      "475\n",
      "474\n",
      "473\n",
      "472\n",
      "471\n",
      "470\n",
      "469\n",
      "468\n",
      "467\n",
      "466\n",
      "465\n",
      "464\n",
      "463\n",
      "462\n",
      "461\n",
      "460\n",
      "459\n",
      "458\n",
      "457\n",
      "456\n",
      "455\n",
      "454\n",
      "453\n",
      "452\n",
      "451\n",
      "450\n",
      "449\n",
      "448\n",
      "447\n",
      "446\n",
      "445\n",
      "444\n",
      "443\n",
      "442\n",
      "441\n",
      "440\n",
      "439\n",
      "438\n",
      "437\n",
      "436\n",
      "435\n",
      "434\n",
      "433\n",
      "432\n",
      "431\n",
      "430\n",
      "429\n",
      "428\n",
      "427\n",
      "426\n",
      "425\n",
      "424\n",
      "423\n",
      "422\n",
      "421\n",
      "420\n",
      "419\n",
      "418\n",
      "417\n",
      "416\n",
      "415\n",
      "414\n",
      "413\n",
      "412\n",
      "411\n",
      "410\n",
      "409\n",
      "408\n",
      "407\n",
      "406\n",
      "405\n",
      "404\n",
      "403\n",
      "402\n",
      "401\n",
      "400\n",
      "399\n",
      "398\n",
      "397\n",
      "396\n",
      "395\n",
      "394\n",
      "393\n",
      "392\n",
      "391\n",
      "390\n",
      "389\n",
      "388\n",
      "387\n",
      "386\n",
      "385\n",
      "384\n",
      "383\n",
      "382\n",
      "381\n",
      "380\n",
      "379\n",
      "378\n",
      "377\n",
      "376\n",
      "375\n",
      "374\n",
      "373\n",
      "372\n",
      "371\n",
      "370\n",
      "369\n",
      "368\n",
      "367\n",
      "366\n",
      "365\n",
      "364\n",
      "363\n",
      "362\n",
      "361\n",
      "360\n",
      "359\n",
      "358\n",
      "357\n",
      "356\n",
      "355\n",
      "354\n",
      "353\n",
      "352\n",
      "351\n",
      "350\n",
      "349\n",
      "348\n",
      "347\n",
      "346\n",
      "345\n",
      "344\n",
      "343\n",
      "342\n",
      "341\n",
      "340\n",
      "339\n",
      "338\n",
      "337\n",
      "336\n",
      "335\n",
      "334\n",
      "333\n",
      "332\n",
      "331\n",
      "330\n",
      "329\n",
      "328\n",
      "327\n",
      "326\n",
      "325\n",
      "324\n",
      "323\n",
      "322\n",
      "321\n",
      "320\n",
      "319\n",
      "318\n",
      "317\n",
      "316\n",
      "315\n",
      "314\n",
      "313\n",
      "312\n",
      "311\n",
      "310\n",
      "309\n",
      "308\n",
      "307\n",
      "306\n",
      "305\n",
      "304\n",
      "303\n",
      "302\n",
      "301\n",
      "300\n",
      "299\n",
      "298\n",
      "297\n",
      "296\n",
      "295\n",
      "294\n",
      "293\n",
      "292\n",
      "291\n",
      "290\n",
      "289\n",
      "288\n",
      "287\n",
      "286\n",
      "285\n",
      "284\n",
      "283\n",
      "282\n",
      "281\n",
      "280\n",
      "279\n",
      "278\n",
      "277\n",
      "276\n",
      "275\n",
      "274\n",
      "273\n",
      "272\n",
      "271\n",
      "270\n",
      "269\n",
      "268\n",
      "267\n",
      "266\n",
      "265\n",
      "264\n",
      "263\n",
      "262\n",
      "261\n",
      "260\n",
      "259\n",
      "258\n",
      "257\n",
      "256\n",
      "255\n",
      "254\n",
      "253\n",
      "252\n",
      "251\n",
      "250\n",
      "249\n",
      "248\n",
      "247\n",
      "246\n",
      "245\n",
      "244\n",
      "243\n",
      "242\n",
      "241\n",
      "240\n",
      "239\n",
      "238\n",
      "237\n",
      "236\n",
      "235\n",
      "234\n",
      "233\n",
      "232\n",
      "231\n",
      "230\n",
      "229\n",
      "228\n",
      "227\n",
      "226\n",
      "225\n",
      "224\n",
      "223\n",
      "222\n",
      "221\n",
      "220\n",
      "219\n",
      "218\n",
      "217\n",
      "216\n",
      "215\n",
      "214\n",
      "213\n",
      "212\n",
      "211\n",
      "210\n",
      "209\n",
      "208\n",
      "207\n",
      "206\n",
      "205\n",
      "204\n",
      "203\n",
      "202\n",
      "201\n",
      "200\n",
      "199\n",
      "198\n",
      "197\n",
      "196\n",
      "195\n",
      "194\n",
      "193\n",
      "192\n",
      "191\n",
      "190\n",
      "189\n",
      "188\n",
      "187\n",
      "186\n",
      "185\n",
      "184\n",
      "183\n",
      "182\n",
      "181\n",
      "180\n",
      "179\n",
      "178\n",
      "177\n",
      "176\n",
      "175\n",
      "174\n",
      "173\n",
      "172\n",
      "171\n",
      "170\n",
      "169\n",
      "168\n",
      "167\n",
      "166\n",
      "165\n",
      "164\n",
      "163\n",
      "162\n",
      "161\n",
      "160\n",
      "159\n",
      "158\n",
      "157\n",
      "156\n",
      "155\n",
      "154\n",
      "153\n",
      "152\n",
      "151\n",
      "150\n",
      "149\n",
      "148\n",
      "147\n",
      "146\n",
      "145\n",
      "144\n",
      "143\n",
      "142\n",
      "141\n",
      "140\n",
      "139\n",
      "138\n",
      "137\n",
      "136\n",
      "135\n",
      "134\n",
      "133\n",
      "132\n",
      "131\n",
      "130\n",
      "129\n",
      "128\n",
      "127\n",
      "126\n",
      "125\n",
      "124\n",
      "123\n",
      "122\n",
      "121\n",
      "120\n",
      "119\n",
      "118\n",
      "117\n",
      "116\n",
      "115\n",
      "114\n",
      "113\n",
      "112\n",
      "111\n",
      "110\n",
      "109\n",
      "108\n",
      "107\n",
      "106\n",
      "105\n",
      "104\n",
      "103\n",
      "102\n",
      "101\n",
      "100\n",
      "99\n",
      "98\n",
      "97\n",
      "96\n",
      "95\n",
      "94\n",
      "93\n",
      "92\n",
      "91\n",
      "90\n",
      "89\n",
      "88\n",
      "87\n",
      "86\n",
      "85\n",
      "84\n",
      "83\n",
      "82\n",
      "81\n",
      "80\n",
      "79\n",
      "78\n",
      "77\n",
      "76\n",
      "75\n",
      "74\n",
      "73\n",
      "72\n",
      "71\n",
      "70\n",
      "69\n",
      "68\n",
      "67\n",
      "66\n",
      "65\n",
      "64\n",
      "63\n",
      "62\n",
      "61\n",
      "60\n",
      "59\n",
      "58\n",
      "57\n",
      "56\n",
      "55\n",
      "54\n",
      "53\n",
      "52\n",
      "51\n",
      "50\n",
      "49\n",
      "48\n",
      "47\n",
      "46\n",
      "45\n",
      "44\n",
      "43\n",
      "42\n",
      "41\n",
      "40\n",
      "39\n",
      "38\n",
      "37\n",
      "36\n",
      "35\n",
      "34\n",
      "33\n",
      "32\n",
      "31\n",
      "30\n",
      "29\n",
      "28\n",
      "27\n",
      "26\n",
      "25\n",
      "24\n",
      "23\n",
      "22\n",
      "21\n",
      "20\n",
      "19\n",
      "18\n",
      "17\n",
      "16\n",
      "15\n",
      "14\n",
      "13\n",
      "12\n",
      "11\n",
      "10\n",
      "9\n",
      "8\n",
      "7\n",
      "6\n",
      "5\n",
      "4\n",
      "3\n",
      "2\n",
      "1\n"
     ]
    }
   ],
   "source": [
    "for x in range(0, y):\n",
    "    title = bitsSessions[x].findAll(\"div\", attrs={\"class\":\"col-sm-6\"})[0].text.strip()\n",
    "    abstract = bitsSessions[x].findAll(\"div\", attrs={\"class\":\"panel-body\"})[0].text.strip()\n",
    "    speaker = bitsSessions[x].findAll(\"div\", attrs={\"class\":\"col-sm-3\"})[0].a['href'].replace(\"../speakers/\",\"\").replace(\"_\",\" \").strip()\n",
    "    speakerLink = bitsSessions[x].findAll(\"div\", attrs={\"class\":\"col-sm-3\"})[0].a['href'].replace(\"..\",\"https://sqlbits.com\").strip()\n",
    "    topic = bitsSessions[x].findAll(\"div\", attrs={\"class\":\"col-sm-3\"})[1].text.strip()\n",
    "    link = bitsSessions[x].findAll(\"div\", attrs={\"class\":\"col-sm-6\"})[0].a['href'].replace(\"..\",\"https://sqlbits.com\").strip()\n",
    "    uClient = uReq(link)\n",
    "    page_html = uClient.read()\n",
    "    uClient.close()\n",
    "    abstractHTML = soup(page_html, 'html.parser')\n",
    "    abstractText = abstractHTML.findAll(\"div\", attrs={\"class\":\"row\"})\n",
    "    abstractTagList = abstractHTML.findAll(\"div\", attrs={\"id\":\"TagList\"})\n",
    "    abstractTags = abstractTagList[0].findAll(\"a\")\n",
    "    abstractFull = abstractText[0].findAll(\"div\", attrs={\"class\":\"row\"})[0].text.strip()\n",
    "    uClient = uReq(speakerLink)\n",
    "    page_html = uClient.read()\n",
    "    uClient.close()\n",
    "    speakerHTML = soup(page_html, 'html.parser')\n",
    "    sessionList = speakerHTML.findAll(\"div\", attrs={\"class\":\"row\"})[2].findAll(\"div\", attrs={\"class\":\"col-sm-12\"})\n",
    "    output = []\n",
    "    for sl in sessionList:\n",
    "        if sl.text.strip() not in output:\n",
    "            output.append(sl.text.strip())\n",
    "    sub = len(output)\n",
    "    sel = len(speakerHTML.findAll(\"div\", attrs={\"class\":\"row\"})[3].findAll(\"div\", attrs={\"class\":\"item\"}))\n",
    "    print(y - x)\n",
    "    \n",
    "    cursor = cnxn.cursor()\n",
    "    cursor.execute('INSERT INTO dbo.sqlbitssessions2 (SessionId, Title, Speaker, Topic, Abstract, AbstractFull,NumberOfSessionsSubmitted, NumberOfSessionsSelected) VALUES (?,?,?,?,?,?,?,?)',(x,title,speaker,topic,abstract, abstractFull, sub, sel))\n",
    "    cnxn.commit()\n",
    "    for tag in abstractTags:\n",
    "        tagg = cleanString(tag.text.strip())\n",
    "        #print(tagg)\n",
    "        cursor = cnxn.cursor()\n",
    "        cursor.execute('INSERT INTO dbo.sqlbitssessionstags (SessionId, Tag) VALUES (?,?)',(x,tagg))\n",
    "        cnxn.commit()\n",
    "\n",
    "\n",
    "    "
   ]
  },
  {
   "cell_type": "code",
   "execution_count": null,
   "metadata": {},
   "outputs": [],
   "source": []
  },
  {
   "cell_type": "code",
   "execution_count": null,
   "metadata": {},
   "outputs": [],
   "source": []
  }
 ],
 "metadata": {
  "anaconda-cloud": {},
  "kernelspec": {
   "display_name": "Python (keras)",
   "language": "python",
   "name": "keras"
  },
  "language_info": {
   "codemirror_mode": {
    "name": "ipython",
    "version": 3
   },
   "file_extension": ".py",
   "mimetype": "text/x-python",
   "name": "python",
   "nbconvert_exporter": "python",
   "pygments_lexer": "ipython3",
   "version": "3.6.8"
  }
 },
 "nbformat": 4,
 "nbformat_minor": 1
}
