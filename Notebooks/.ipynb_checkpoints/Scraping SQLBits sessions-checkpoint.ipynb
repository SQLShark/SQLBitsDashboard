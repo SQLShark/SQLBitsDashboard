{
 "cells": [
  {
   "cell_type": "markdown",
   "metadata": {
    "deletable": true,
    "editable": true
   },
   "source": [
    "Scraping from SQLBits"
   ]
  },
  {
   "cell_type": "code",
   "execution_count": 1,
   "metadata": {
    "collapsed": true,
    "deletable": true,
    "editable": true
   },
   "outputs": [],
   "source": [
    "from urllib.request import urlopen as uReq\n",
    "from bs4 import BeautifulSoup as soup\n",
    "import json\n",
    "import pyodbc"
   ]
  },
  {
   "cell_type": "markdown",
   "metadata": {},
   "source": [
    "Connect to a SQLServer Database"
   ]
  },
  {
   "cell_type": "code",
   "execution_count": 1,
   "metadata": {
    "collapsed": false,
    "deletable": true,
    "editable": true
   },
   "outputs": [
    {
     "ename": "NameError",
     "evalue": "name 'pyodbc' is not defined",
     "output_type": "error",
     "traceback": [
      "\u001b[0;31m---------------------------------------------------------------------------\u001b[0m",
      "\u001b[0;31mNameError\u001b[0m                                 Traceback (most recent call last)",
      "\u001b[0;32m<ipython-input-1-9b27e5547d6b>\u001b[0m in \u001b[0;36m<module>\u001b[0;34m()\u001b[0m\n\u001b[1;32m      4\u001b[0m \u001b[0mpassword\u001b[0m \u001b[1;33m=\u001b[0m \u001b[1;34m'<password>'\u001b[0m\u001b[1;33m\u001b[0m\u001b[0m\n\u001b[1;32m      5\u001b[0m \u001b[0mdriver\u001b[0m\u001b[1;33m=\u001b[0m \u001b[1;34m'{ODBC Driver 13 for SQL Server}'\u001b[0m\u001b[1;33m\u001b[0m\u001b[0m\n\u001b[0;32m----> 6\u001b[0;31m \u001b[0mcnxn\u001b[0m \u001b[1;33m=\u001b[0m \u001b[0mpyodbc\u001b[0m\u001b[1;33m.\u001b[0m\u001b[0mconnect\u001b[0m\u001b[1;33m(\u001b[0m\u001b[1;34m'DRIVER='\u001b[0m\u001b[1;33m+\u001b[0m\u001b[0mdriver\u001b[0m\u001b[1;33m+\u001b[0m\u001b[1;34m';SERVER='\u001b[0m\u001b[1;33m+\u001b[0m\u001b[0mserver\u001b[0m\u001b[1;33m+\u001b[0m\u001b[1;34m';PORT=1433;DATABASE='\u001b[0m\u001b[1;33m+\u001b[0m\u001b[0mdatabase\u001b[0m\u001b[1;33m+\u001b[0m\u001b[1;34m';UID='\u001b[0m\u001b[1;33m+\u001b[0m\u001b[0musername\u001b[0m\u001b[1;33m+\u001b[0m\u001b[1;34m';PWD='\u001b[0m\u001b[1;33m+\u001b[0m \u001b[0mpassword\u001b[0m\u001b[1;33m)\u001b[0m\u001b[1;33m\u001b[0m\u001b[0m\n\u001b[0m\u001b[1;32m      7\u001b[0m \u001b[0mcursor\u001b[0m \u001b[1;33m=\u001b[0m \u001b[0mcnxn\u001b[0m\u001b[1;33m.\u001b[0m\u001b[0mcursor\u001b[0m\u001b[1;33m(\u001b[0m\u001b[1;33m)\u001b[0m\u001b[1;33m\u001b[0m\u001b[0m\n",
      "\u001b[0;31mNameError\u001b[0m: name 'pyodbc' is not defined"
     ]
    }
   ],
   "source": [
    "server = '<servername>.database.windows.net'\n",
    "database = '<databasename>'\n",
    "username = '<username>'\n",
    "password = '<password>'\n",
    "driver= '{ODBC Driver 13 for SQL Server}'\n",
    "cnxn = pyodbc.connect('DRIVER='+driver+';SERVER='+server+';PORT=1433;DATABASE='+database+';UID='+username+';PWD='+ password)\n",
    "cursor = cnxn.cursor()"
   ]
  },
  {
   "cell_type": "markdown",
   "metadata": {},
   "source": [
    "Connect to the SQLBits website. "
   ]
  },
  {
   "cell_type": "code",
   "execution_count": 3,
   "metadata": {
    "collapsed": true,
    "deletable": true,
    "editable": true
   },
   "outputs": [],
   "source": [
    "my_url = 'https://sqlbits.com/information/publicsessions' \n",
    "uClient = uReq(my_url)\n",
    "page_html = uClient.read()\n",
    "uClient.close()"
   ]
  },
  {
   "cell_type": "code",
   "execution_count": 4,
   "metadata": {
    "collapsed": true,
    "deletable": true,
    "editable": true
   },
   "outputs": [],
   "source": [
    "page_soup = soup(page_html, 'html.parser')"
   ]
  },
  {
   "cell_type": "code",
   "execution_count": 5,
   "metadata": {
    "collapsed": true,
    "deletable": true,
    "editable": true
   },
   "outputs": [],
   "source": [
    "bitsSessions = page_soup.findAll(\"div\", attrs={\"class\":\"panel\"})"
   ]
  },
  {
   "cell_type": "markdown",
   "metadata": {
    "deletable": true,
    "editable": true
   },
   "source": [
    "Find the speakers name:"
   ]
  },
  {
   "cell_type": "code",
   "execution_count": 6,
   "metadata": {
    "collapsed": false,
    "deletable": true,
    "editable": true
   },
   "outputs": [
    {
     "name": "stdout",
     "output_type": "stream",
     "text": [
      "Randolph West\n"
     ]
    }
   ],
   "source": [
    "speaker = bitsSessions[0].findAll(\"div\", attrs={\"class\":\"col-sm-3\"})[0].a['href'].replace(\"../Speakers/\",\"\").replace(\"_\",\" \").strip()\n",
    "print(speaker)"
   ]
  },
  {
   "cell_type": "markdown",
   "metadata": {
    "deletable": true,
    "editable": true
   },
   "source": [
    "Find the session topic and level"
   ]
  },
  {
   "cell_type": "code",
   "execution_count": 7,
   "metadata": {
    "collapsed": false,
    "deletable": true,
    "editable": true
   },
   "outputs": [
    {
     "name": "stdout",
     "output_type": "stream",
     "text": [
      "Dev\r\n",
      "                                        200\n"
     ]
    }
   ],
   "source": [
    "topic = bitsSessions[0].findAll(\"div\", attrs={\"class\":\"col-sm-3\"})[1].text.strip()\n",
    "print(topic)"
   ]
  },
  {
   "cell_type": "markdown",
   "metadata": {
    "deletable": true,
    "editable": true
   },
   "source": [
    "Find the session abstract:"
   ]
  },
  {
   "cell_type": "code",
   "execution_count": 8,
   "metadata": {
    "collapsed": false,
    "deletable": true,
    "editable": true
   },
   "outputs": [
    {
     "name": "stdout",
     "output_type": "stream",
     "text": [
      "SQL Server and Azure SQL Database support a multitude of data types and functions related to dates and times, and chances are you've never heard of some of them.\n",
      "\r\n",
      "\r\n",
      "In this session, start with the science in an easy to understand way. Then you'll get a rundown of each of the data types and how they work. Finish with the most useful date and time system functions, using practical examples.\r\n",
      "\r\n",
      "\r\n",
      "There's a life beyond DATETIME and GETDATE(). Start that journey here and end up in a world that embraces the latest versions of SQL Server and Azure SQL Database in just over an hour.\n"
     ]
    }
   ],
   "source": [
    "abstract = bitsSessions[0].findAll(\"div\", attrs={\"class\":\"panel-body\"})[0].text.strip()\n",
    "print(abstract)"
   ]
  },
  {
   "cell_type": "markdown",
   "metadata": {
    "deletable": true,
    "editable": true
   },
   "source": [
    "Find the title of the session:"
   ]
  },
  {
   "cell_type": "code",
   "execution_count": 9,
   "metadata": {
    "collapsed": false,
    "deletable": true,
    "editable": true
   },
   "outputs": [
    {
     "name": "stdout",
     "output_type": "stream",
     "text": [
      "The practical guide to dates and times in SQL Server\n"
     ]
    }
   ],
   "source": [
    "title = bitsSessions[0].findAll(\"div\", attrs={\"class\":\"col-sm-6\"})[0].text.strip()\n",
    "print(title)"
   ]
  },
  {
   "cell_type": "markdown",
   "metadata": {
    "deletable": true,
    "editable": true
   },
   "source": [
    "Well that does sound interesting William!\n",
    "\n",
    "But lets go a bit deeper. Lets look at all the sessions which went in to SQLBits in 2018.\n",
    "\n",
    "In python we can use len to find the length of a list. "
   ]
  },
  {
   "cell_type": "code",
   "execution_count": 10,
   "metadata": {
    "collapsed": false,
    "deletable": true,
    "editable": true
   },
   "outputs": [],
   "source": [
    "y = len(bitsSessions)"
   ]
  },
  {
   "cell_type": "code",
   "execution_count": 11,
   "metadata": {
    "collapsed": false,
    "deletable": true,
    "editable": true
   },
   "outputs": [
    {
     "name": "stdout",
     "output_type": "stream",
     "text": [
      "The practical guide to dates and times in SQL Server\n",
      "7 things a Data Platform Engineer needs to know.\n",
      "Introduction to Managed Instances\n",
      "Terraform for beginners, Infrastructure as Code\n",
      "Improving data quality with integration testing\n",
      "Documentation, Documentation, Documentation!\n",
      "An R primer for SQL folks\n",
      "A journey through the Tidyverse\n",
      "A refresher on geospatial data in SQL Server\n",
      "Simplifying Disaster Recovery using dbatools\n",
      "Simplifying High Availability using dbatools\n",
      "An overview of SQL Server 2019 for the busy DBA / developer\n",
      "Embrace the command line with mssql-cli\n",
      "Hash Match, the Operator\n",
      "From adaptive to intelligent: query procesing in SQL 2019\n",
      "Execution plans ... where do I start?\n",
      "Building Your Emergency DBA Toolkit\n",
      "Enterprise Power BI – Development Lifecycle\n",
      "Checking in with Power Apps, Flow and Power BI\n",
      "Why (data) quality matters\n",
      "Virtual Private Database - A real world example\n",
      "Fun from Fantastic File Formats\n",
      "Shard Attack -\u000b",
      "Horizontal Scaling \u000b",
      "in Azure SQL Database\n",
      "Beware of the Dark Side-A Tour of Oracle for the SQL DBA\n",
      "Taming the Beast – How a DBA can keep Kerberos under control\n",
      "New Security Features in SQL Server 2016\n",
      "The Complete Guide to Temporary Tables and Table Variables\n",
      "Handling Big Data with SQL Server 2017\n",
      "SQL Server Setup Best Practices\n",
      "Monitoring Page Splits in SQL Server\n",
      "How to Make Sure Your SSIS Packages Will Never Fail\n",
      "Working with Very Large Tables Like a Pro in SQL Server 2017\n",
      "How to Use Parameters Like a Pro and Boost Performance\n",
      "DevOps for BI\n",
      "Understanding the Power BI data model\n",
      "Welcome to the real world - BI and AI\n",
      "Cognitive Services - AI for everyone?\n",
      "Debugging common DAX and Model performance issues\n",
      "Power BI security deep dive\n",
      "BI in Azure one year live\n",
      "Build your next BI solution in Azure\n",
      "Let the Cognitive Services to help you to find your cocktail\n",
      "Automate work processes with Microsoft Flow and Power BI\n",
      "Microsoft Power Platform in action\n",
      "\"Start Small and Grow Big\" with Power BI and Azure\n",
      "Power BI Hacks and Tips\n",
      "Saving the World with IoT\n",
      "Ordering woes\n",
      "Azure-d Availability: Scaling SQL Server to the Cloud\n",
      "Time Travel Safely: Temporal Tables and Row-Level Security\n",
      "Where Should My Data Live (and Why)?\n",
      "Top 5 Tips to Keep Always On AGs Humming and Users Happy\n",
      "Feelings Quantified: Scoring and Storing Sentiment\n",
      "Uhms and Bunny Hands: Improve Your Presentation Skills\n",
      "Advanced SQL Dev :- Types, Tools, Techniques and Tips\n",
      "Developing effective IoT back-end services with SQL Server\n",
      "Making the most of multiplatform MS SQL and .Net Core\n",
      "The MS SQL DB  Engine and Tools vs the ELK Stack\n",
      "Building a data driven ELT using Azure Data Factory\n",
      "PowerBI - Nifty Interface and Navigation Techniques\n",
      "Being a Consultant, What's it Like!?\n",
      "Introduction to PowerApps\n",
      "Be a dynamic SQL dynamo!\n",
      "Excel-ling With SQL Server\n",
      "Azure SQL Database Performance Tuning\n",
      "What problem does this SQL Server feature solve?\n",
      "Beyond CXPACKET: Understanding Wait Statistics\n",
      "Taming of the Shrew- Optimizing and Monitoring of Power BI\n",
      "Building Scalable, Globally Distributed Systems with Cosmos\n",
      "Using Spatial Data in SQL Server\n",
      "Exploring the new features of SQL Server 2017\n",
      "Boosting SSAS productivity with Tabular Editor\n",
      "Backup Internals - What is SQL Server doing behind the scene\n",
      "SQL Server on Linux Fundamentals for DBAs\n",
      "Git without fear\n",
      "Disposable Dev environments with Azure DevOps and AzureRM\n",
      "From Raspberry Pi to Power BI and lots in between\n",
      "Latches, Spinlocks, and Lock Free Data Structures\n",
      "Joins in SQL Server – as easy as ABC?\n",
      "UNIQUEIDENTIFIERs as Primary Keys in SQL Server\n",
      "Headache guaranteed: Deadlocking in SQL Server!\n",
      "SQL Server Memory Management\n",
      "Kubernetes for the SQL Server DBA\n",
      "Microsoft Power BI Premium: Building enterprise-grade models\n",
      "Adding unit tests to the database deployment pipeline\n",
      "Validate Your SQL Server Estate with Ease Using dbachecks\n",
      "Live streaming data from Raspberry Pi to Stream Analytics\n",
      "Slack for the DBA\n",
      "Testing Backups with dbatools\n",
      "Divide and conquer-Partitioning\n",
      "SQLServer under pressure: Can I fix it?\n",
      "Introducing Azure Data Studio (SQL Operations Studio)\n",
      "Locks, Blocks & Snapshots: Maximizing Database Concurrency\n",
      "Select Stars: A SQL DBAs Introduction to Azure Cosmos DB\n",
      "DAX for the SQL developer\n",
      "Build as they talk\n",
      "Talk tech to me-improving your technical presentation skil\n",
      "Performance Deep Dive for Demanding Virtual Database Servers\n",
      "Level Up Your Cloud Skills\n",
      "Zen and the Art of Baselines\n",
      "Azure Data Factory: Data Flows and Transformations\n",
      "Data Virtualization: Data Integration without Data Movement\n",
      "Azure Data Studio: Tips for Increased Productivity\n",
      "Scaling OLTP Workloads Using Containers\n",
      "Probelm Solving Using The In-Memory Engine\n",
      "Kick Start! SQL Server 2017/2019 Performance Tips and Trick\n",
      "Indexes-I Never Knew Hurts SELECTs Too!\n",
      "Secrets of SQL Server-Database Worst Practices\n",
      "Revenge: The SQL!\n",
      "Start testing your SSIS packages with ssisUnit\n",
      "Learning to swim-an introduction to Azure data lake\n",
      "SQL Server hates you(?)-what the DBAs never told the devel\n",
      "SSRS Tips and Tricks\n",
      "Tabular Next Top Model\n",
      "The A/B of SQL Server Upgrade and Migration Planning\n",
      "Now you see it, but did you really: Visualization fallacies\n",
      "Data Visualization: How to truly tell a great story!\n",
      "Relationship Goals: The SQL Server Graph Database\n",
      "SQL Server Memory Internals & Troubleshooting\n",
      "Database projects in VS2017-The Road to BI Devops\n",
      "Power BI Q&A;: Gimmick Or Game-Changer?\n",
      "Introduction To Dataflows In Power BI\n",
      "CI, Release & Deployment of DW(DB) and BI Projects with TFS\n",
      "Columnstore design patterns and best practices for EDW\n",
      "Get the most out of maps in Power BI\n",
      "dbatools-PowerShell and SQL Server Working Together\n",
      "Cloning SQL Server databases with PowerShell\n",
      "A Heart to Heart with your Data: Emotional Intelligence in A\n",
      "Around the Microsoft AI stack in 60 minutes\n",
      "Everything you ever wanted to know about running ML in SQL\n",
      "How to operationalise your ML models in the Microsoft stack\n",
      "Architectural Considerations with PowerBI\n",
      "Supercharge your ETL development with Dynamic T-SQL\n",
      "Behind the Query Store…\n",
      "Understand your ETL pipeline with graph data visualisations\n",
      "Design patterns for metadata-first ETL process control\n",
      "Everlasting Issues with Temporary Tables and tempdb\n",
      "Packaging Permissions in Stored Procedures\n",
      "Temporal Tables in the Data Warehouse\n",
      "Dont Use Cursors-or Maybe Use a Cursor After All\n",
      "Working in Batches\n",
      "Secrets of Optimising Azure Storage for SQL IaaS\n",
      "Optimising Tabular Model Processing\n",
      "Using the Data Gateway for Hybrid PowerBI and Flow\n",
      "Using Polybase in SQL 2019\n",
      "DAX Festival\n",
      "Azure Data Lake : SELECT * FROM DataLake WHERE People=Happy\n",
      "Share and collaborate with Power BI\n",
      "Power BI Administration\n",
      "When Things Go Wrong-Error Handling in SQL Server\n",
      "Building a Better Interface in Power BI\n",
      "Share Your Story: Developing Your First Presentation\n",
      "Practical SQL Server Internals for T-SQL Developers\n",
      "Cert Prep:70-778: Analysing & Visualizing Data with Power BI\n",
      "PowerBI with Advanced R Analytics\n",
      "Award winning \"Empowering Every Person with Power BI\"\n",
      "Web development with Hugo and Github\n",
      "Learn how to build a real-time analytics solution\n",
      "An Introduction to SSRS\n",
      "SSRS-Beyond the Basics\n",
      "Git Gud: Getting to grips with Git\n",
      "Git Gud: Getting to grips with Git\n",
      "Git Gud: Getting to grips with Git\n",
      "Using Excel the Right Way\n",
      "SQL HA in the world of Azure\n",
      "Data Bricks for the SQL Server DW guy\n",
      "Using Python from the comfort of your own SSMS\n",
      "Choosing Your Data Cloud--Understanding SQL PaaS Options\n",
      "Saving your Salary-Driving cost efficiencies in SQL Server\n",
      "Containers, Pods, and Databases-The Future of Infrastructure\n",
      "Top Tips for AGs and FCIs On Premises or In the Cloud\n",
      "Azure Managed Instances—Your Bridge to the Cloud\n",
      "Database Administrators-necessary evil or a force for good\n",
      "10 Years of Highs and Lows as an Independent Consultant\n",
      "Infrastructure 2.0 for Modern SQL Server Deployments\n",
      "Writing your own encryption routines in SQL and cracking it\n",
      "Create a SQL Test Lab on Your Workstation\n",
      "Plan Stability with Automatic Tuning in SQL Server and Azure\n",
      "Applying APPLY\n",
      "Migrating your SQL Server to Azure SQL Managed Instance\n",
      "Common Troubleshooting Techniques for AGs and FCIs\n",
      "Performance Tuning of Azure SQL DB\n",
      "Getting started with SQL Server on Linux\n",
      "SQL Server Containers 101 (Docker)\n",
      "Certification for all\n",
      "SQL Server Containers 101 (Docker)\n",
      "Exploring the Tiger Team Toolbox\n",
      "How to be a better presenter\n",
      "SQL Server Containers in Azure\n",
      "Would you run production SQL Server on Docker?\n",
      "Building a Modern Enterprise BI in a Mobile Games Company\n",
      "Power BI Report design Tips and Tricks\n",
      "Azure Container Instances\n",
      "Introduction to PowerApps and Integration with Power BI\n",
      "SQL Server and Kubernetes\n",
      "Benchmarking in the Cloud\n",
      "ETL and Data Warehouse Design with Metadata\n",
      "Let’s Build SSIS Packages or adf pipelines with Biml – Live\n",
      "The Self-Tuning SSIS Package\n",
      "Power BI and PowerShell-A Match Made in Heaven\n",
      "Find and Fix those Troublesome Queries\n",
      "Emergency! Are You Ready for Disaster to Strike?\n",
      "DevOps, Dev Data & Data Breaches: 5 fixes for a GDPR dilemma\n",
      "Maintain SQL Server Performance Baseline with PowerShell\n",
      "Get Near Realtime ETL with Service Broker\n",
      "Should we embrace \"DataOps\"? A formal debate\n",
      "The PowerShell Standards Agency - Better code for Everyone\n",
      "So you want to speak at SQL Bits?\n",
      "SQLOS Scheduling From the Inside\n",
      "Designing Schema Changes with a DevOps Mindset\n",
      "Capturing the Value of DevOps\n",
      "Learn to Read Execution Plans\n",
      "Do More With SQL Server Estate Monitoring\n",
      "A Gentle Intro to Leaderless Replication with CRDTs\n",
      "Always Encrypted for Beginners\n",
      "Survival Techniques for the Lone DBA\n",
      "Performance Tuning SQL Server on Crappy Hardware\n",
      "PowerShell Medley\n",
      "8 Steps to Securing Azure Sql PaaS\n",
      "AI Index for Sql Server\n",
      "Automation for the DBA: Embrace your inner sloth\n",
      "Its broken, now what?! (Practical problem solving)\n",
      "Size isnt everything! Azure SQL Data Warehouse for SMEs\n",
      "Score a (row) goal and beat a query optimizer\n",
      "Performance Tuning, Getting the Biggest Bang for Your Buck!\n",
      "How to implement an optimum modern data solution on Azure\n",
      "Research skills for industry experts\n",
      "Azure Cloud Security-Yes, its super secure!\n",
      "An Introduction to SQL Server 2019 Big Data Clusters\n",
      "Data Factory – An Intro to Azure Control Flows & Data Flows\n",
      "Complex Azure Orchestration w Dynamic Data Factory Pipelines\n",
      "ETL in Azure made easy with Data Factory Data Flow\n",
      "Beyond IoT Realtime Data Ingestion w/ Azure Stream Analytics\n",
      "A to Z of Azure in 60 minutes! Pre-requisites: Coffee!\n",
      "BI in Azure-make your life easy (easier?)\n",
      "Data Visualisation Principles and Practice for AI\n",
      "The Five Cs of Artificial Intelligence for Businesses\n",
      "Data Vault for the Business Intelligence Professional\n",
      "Failure prediction for manufacturing with SQL Server & R\n",
      "Sharing contents in Power BI: how to fulfill your audience\n",
      "Spatial Analysis with SQL Server, R and Power BI\n",
      "Developing SQL Server code to keep your DBA happy\n",
      "The Chronicles of Power BI\n",
      "Python Pipeline Primer: Data Engineering with DataBricks\n",
      "DevOps, the database and the role of the DBA\n",
      "Patterns and Best Practices in SSIS\n",
      "SQLServer 201: Why fundamentals are important\n",
      "Gunfight at the Kafka Corral-Event Hubs vs Service Broker\n",
      "Using AI to write session submission to SQLBits.\n",
      "Deploy ML models faster with Data Science DevOps\n",
      "Production Python Machine Learning in SQL Server\n",
      "Migrating data to an Azure SQL Datawarehouse with Azure Data\n",
      "Azure Data Factory V2, lift and shift your SSIS Packages to\n",
      "Building your CI/CD pipelines for a BI with SSIS and SSAS\n",
      "Understanding, selecting, visualizing and finalizing Data Sc\n",
      "Azure Data Factory Design Patterns\n",
      "Dimensional Modeling Beyond the Basics\n",
      "Is Azure SQL Data Warehouse Right for you?\n",
      "Temporal Tables-the Tardis of SQL Server\n",
      "Azure Basics for the DBA\n",
      "SQL Server Databaseology: Deep Dive Into Database Internals\n",
      "From Windows to Linux-How to administer a SQL Server\n",
      "AlwaysOn with Kubernets in SQL Server 2019\n",
      "Data Lake Design Patterns\n",
      "Move your body to Azure Data Warehouse\n",
      "Azure Data Factory v2 with Data Flows capabilities\n",
      "Maintain Database Project using Microsoft Data Tools (SSDT)\n",
      "Database DevOps: A Genuine Journey\n",
      "How we built dbachecks 1.0 in only two months\n",
      "NOLOCK – The Good, the Bad and the Ugly\n",
      "Data Warehouse Design Patterns, Tips and Tricks\n",
      "SQL Server Encryption for the Layman\n",
      "Columnstore Clustered vs Nonclustered, when to choose what\n",
      "Columnstore Indexes: What are we waiting for?\n",
      "Batch Execution Mode on the Rowstore\n",
      "Cognition at scale on large collections\n",
      "ETL is dead, long live real-time analytics\n",
      "The Maths behind Machine Learning\n",
      "A REAL DBA doesnt need a GUI\n",
      "Azure database perfomance\n",
      "The Date Game\n",
      "How I managed 3000 SQL Servers\n",
      "My Power BI report is slow: what should I do?\n",
      "Time intelligence and date tables in Power BI\n",
      "Machine Learning in SQL: now we can, does it mean we should?\n",
      "Profiling Your Data\n",
      "Data Types Do Matter\n",
      "Different types of many-to-many relationships in Power BI\n",
      "Datatypes: They Still Matter!\n",
      "Understanding relationships in Power BI\n",
      "Deep Dive in DAX Evaluation Context\n",
      "Aggregations in Power BI\n",
      "Monitoring Linux Performance for the SQL Server Admin\n",
      "Practical Container Scenarios in Azure\n",
      "Inside Kubernetes - An Architectural Deep Dive\n",
      "Containers - You Better Get on Board!\n",
      "Developing with Power BI Embedding\n",
      "Build a custom visual for Microsoft Power BI and Excel\n",
      "An overview of Azure Databricks\n",
      "Best Practices from the field-Azure Cosmos DB\n",
      "Data Classification-yes we can!\n",
      "The Four Modes of Power BI Desktop\n",
      "Power BI Flexes Its Muscles: Enterprise Modeling\n",
      "Delivering Real-Time Power BI Dashboards\n",
      "Power BI management for DBAs\n",
      "Power BI for the Developer\n",
      "Deploying and Managing Power BI Premium\n",
      "Working Remote or Remotely Working\n",
      "DevOps for the DBA\n",
      "Reverse engineering your source systems\n",
      "Migrating Legacy Data Warehouses to Azure SQL Data Warehouse\n",
      "Serverless data solutions-what are they and when to use?\n",
      "Optimise your Azure data costs\n",
      "Beyond SQL Server 2008 End of Support\n",
      "Using Change Tracking to build a Live Data Warehouse\n",
      "Soft Skills for Success\n",
      "Title-Building better teams\n",
      "Common Table Expressions what are good for?\n",
      "Demystifying Chart Types and Report Design Principles in Pow\n",
      "Power BI Filter Fundamentals: Knowing When, Where, and How t\n",
      "Introduction to ElasticSearch\n",
      "Analysis Services DevOps using Tabular Editor\n",
      "Biml Tips and Tricks: Not just for SSIS packages!\n",
      "Understanding Climate Change using Power BI\n",
      "Data Modeling in Modern BI\n",
      "Deadlocks. Everything you wanted to ask but were too shy.\n",
      "Getting your Database off to a Right Start\n",
      "Query tuning when indexes cannot help\n",
      "Shall I go in Parallel\n",
      "Identify opportunities for In-Memory OLTP\n",
      "Graph databases – What, how and why\n",
      "Choose your own Database Adventure\n",
      "Enterprise BI with Power BI Premium and Analysis Services\n",
      "QTIP: My Secret Weapon For Performance Tuning\n",
      "Monitor your SQL Server for free with SQLWATCH\n",
      "What Else Can Indexes Do?\n",
      "ETL with Azure Databricks, The Complete Introduction\n",
      "Becoming a hipster DBA, a guide to Github and CI/CD for Admi\n",
      "Service Bus and Logic Apps-Bridging Cloud and On Premise\n",
      "Hands on with Machine Learning\n",
      "The Current State of Microsoft Reporting\n",
      "Hybrid Power BI-What is possible? What do you need?\n",
      "Power BI Report Server (PBIRS)-What / Why & How?\n",
      "The Microsoft Power Platform-What is it?\n",
      "Let your data flow-Introducing Power BI dataflows\n",
      "Microsoft Premier Field Engineers and Consultants Unplugged.\n",
      "Windowing Functions: Shedding some light\n",
      "Power BI Reporting Services for the SQL Server DBA.\n",
      "Take Your First Steps Towards Power BI by Using DAX\n"
     ]
    }
   ],
   "source": [
    "for x in range(0, y):\n",
    "    title = bitsSessions[x].findAll(\"div\", attrs={\"class\":\"col-sm-6\"})[0].text.strip()\n",
    "    abstract = bitsSessions[x].findAll(\"div\", attrs={\"class\":\"panel-body\"})[0].text.strip()\n",
    "    speaker = bitsSessions[x].findAll(\"div\", attrs={\"class\":\"col-sm-3\"})[0].a['href'].replace(\"../Speakers/\",\"\").replace(\"_\",\" \").strip()\n",
    "    topic = bitsSessions[x].findAll(\"div\", attrs={\"class\":\"col-sm-3\"})[1].text.strip()\n",
    "    print(title)\n",
    "    cursor.execute('INSERT INTO dbo.sqlbitssessions (Title, Speaker, Topic, Abstract) VALUES (?,?,?,?)',(title,speaker,topic,abstract))\n",
    "cnxn.commit()\n",
    "    "
   ]
  },
  {
   "cell_type": "code",
   "execution_count": null,
   "metadata": {
    "collapsed": true,
    "deletable": true,
    "editable": true
   },
   "outputs": [],
   "source": []
  }
 ],
 "metadata": {
  "anaconda-cloud": {},
  "kernelspec": {
   "display_name": "Python [conda root]",
   "language": "python",
   "name": "conda-root-py"
  },
  "language_info": {
   "codemirror_mode": {
    "name": "ipython",
    "version": 3
   },
   "file_extension": ".py",
   "mimetype": "text/x-python",
   "name": "python",
   "nbconvert_exporter": "python",
   "pygments_lexer": "ipython3",
   "version": "3.5.2"
  }
 },
 "nbformat": 4,
 "nbformat_minor": 1
}
